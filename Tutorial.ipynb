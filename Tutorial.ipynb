{
 "cells": [
  {
   "cell_type": "markdown",
   "metadata": {},
   "source": [
    "# Hessian-free optimization"
   ]
  },
  {
   "cell_type": "code",
   "execution_count": 1,
   "metadata": {},
   "outputs": [],
   "source": [
    "import sys, os\n",
    "import numpy as np"
   ]
  },
  {
   "cell_type": "code",
   "execution_count": 4,
   "metadata": {},
   "outputs": [],
   "source": [
    "# file paths to call\n",
    "IR2_file = np.loadtxt(\"./test_data/IR_2.txt\")\n",
    "aerinite_file = np.loadtxt(\"./test_data/aerinite_processed.txt\", delimiter=\",\")\n",
    "\n",
    "IR_x = IR2_file[:,0]\n",
    "IR_y = IR2_file[:,1]\n",
    "\n",
    "aerinite_x = aerinite_file[:,0]\n",
    "aerinite_y = aerinite_file[:,1]"
   ]
  },
  {
   "cell_type": "markdown",
   "metadata": {},
   "source": [
    "First define the Gaussians and its partial derivatives with respect to its parameters."
   ]
  },
  {
   "cell_type": "code",
   "execution_count": 5,
   "metadata": {},
   "outputs": [],
   "source": [
    "def gaussian(x, I, mu, sigma):\n",
    "    diff = x - mu\n",
    "    dist = diff**2\n",
    "    exponential = np.exp(-dist/(2*sigma**2 + 1e-11))\n",
    "    amplitude = np.abs(I)/(np.sqrt(2*np.pi) * sigma)\n",
    "    return amplitude * exponential"
   ]
  },
  {
   "cell_type": "code",
   "execution_count": 7,
   "metadata": {},
   "outputs": [],
   "source": [
    "def gaussian_partial_I(x, I, mu, sigma):\n",
    "    diff = x - mu\n",
    "    dist = diff**2\n",
    "    exponential = np.exp(-dist/(2*sigma**2 + 1e-11))\n",
    "    amplitude = np.sign(I)/(np.sqrt(2*np.pi) * sigma)\n",
    "    return amplitude * exponential"
   ]
  },
  {
   "cell_type": "code",
   "execution_count": 8,
   "metadata": {},
   "outputs": [],
   "source": [
    "def gaussian_partial_mu(x, I, mu, sigma):\n",
    "    diff = x - mu\n",
    "    dist = diff**2\n",
    "    exponential = np.exp(-dist/(2*sigma**2 + 1e-11))\n",
    "    amplitude = I*(x-mu)/(np.sqrt(2*np.pi) * sigma**3)\n",
    "    return amplitude * exponential"
   ]
  },
  {
   "cell_type": "code",
   "execution_count": 9,
   "metadata": {},
   "outputs": [],
   "source": [
    "def gaussian_partial_sigma(x, I, mu, sigma):\n",
    "    diff = x - mu\n",
    "    dist = diff**2\n",
    "    exponential = np.exp(-dist/(2*sigma**2 + 1e-11))\n",
    "    amplitude = I*((x-mu)**2/sigma**2 - 1)/(np.sqrt(2*np.pi) * sigma**2)\n",
    "    return amplitude * exponential"
   ]
  },
  {
   "cell_type": "markdown",
   "metadata": {},
   "source": [
    "## Helper functions for the conjugate gradient method\n",
    "\n",
    "Essentially we'd like to update $f(\\mathbf{x}+\\Delta \\mathbf{x})$ by $\\mathbf{x}_i = \\mathbf{x}_{i-1} - \\alpha_{i-1}\\nabla f(\\mathbf{x}_{i-1})$ with\n",
    "$$\n",
    "    \\alpha_{i} = - \\frac{[{\\mathbf{x}_{i}}^T H(\\mathbf{x}_{i}) + \\nabla f(\\mathbf{x}_{i})]\\mathbf{d}_{i}}{{\\mathbf{d}_{i}}^T H(\\mathbf{x}_{i})\\mathbf{d}_{i}}\n",
    "$$\n",
    "using the following approximation\n",
    "$$\n",
    "    f(\\mathbf{x}+\\Delta \\mathbf{x}) \\approx f(\\mathbf{x}) + \\nabla f(\\mathbf{x})^T \\Delta \\mathbf{x} + \\frac{1}{2} \\Delta \\mathbf{x}^T H(f) \\Delta \\mathbf{x}.\n",
    "$$\n",
    "where each row the Hessian can be approximated as a directional derivative in direction \n",
    "$$\n",
    "    \\mathbf{d}_{i} = -\\nabla f(x_i) + \\beta_{i-1} \\mathbf{d}_{i-1} = - \\nabla f(\\mathbf{x}_{i-1}) + \\frac{\\nabla f(\\mathbf{x}_{i})^T H(\\mathbf{x}_{i-1}) \\mathbf{d}_{i-1}}{{\\mathbf{d}_{i-1}}^T H(\\mathbf{x}_{i-1})\\mathbf{d}_{i-1}}\\mathbf{d}_{i-1}.\n",
    "$$\n",
    "\n",
    "The Hessian is quite horrid to compute, but its product with an arbitrary vector can be approximated as:\n",
    "$$\n",
    "    H\\mathbf{v} \\approx \\frac{\\nabla f(\\mathbf{x}+\\epsilon \\mathbf{v}) - \\nabla f(\\mathbf{x})}{\\epsilon}\n",
    "$$\n",
    "for sufficiently small $\\epsilon > 0$."
   ]
  },
  {
   "cell_type": "code",
   "execution_count": null,
   "metadata": {},
   "outputs": [],
   "source": []
  }
 ],
 "metadata": {
  "kernelspec": {
   "display_name": "Python 3.10.6 64-bit",
   "language": "python",
   "name": "python3"
  },
  "language_info": {
   "codemirror_mode": {
    "name": "ipython",
    "version": 3
   },
   "file_extension": ".py",
   "mimetype": "text/x-python",
   "name": "python",
   "nbconvert_exporter": "python",
   "pygments_lexer": "ipython3",
   "version": "3.10.6"
  },
  "orig_nbformat": 4,
  "vscode": {
   "interpreter": {
    "hash": "e7370f93d1d0cde622a1f8e1c04877d8463912d04d973331ad4851f04de6915a"
   }
  }
 },
 "nbformat": 4,
 "nbformat_minor": 2
}
