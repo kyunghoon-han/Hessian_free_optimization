{
 "cells": [
  {
   "cell_type": "markdown",
   "metadata": {},
   "source": [
    "# Hessian-free optimization"
   ]
  },
  {
   "cell_type": "code",
   "execution_count": 90,
   "metadata": {},
   "outputs": [],
   "source": [
    "import sys, os\n",
    "import numpy as np\n",
    "from matplotlib import pyplot as plt"
   ]
  },
  {
   "cell_type": "code",
   "execution_count": 91,
   "metadata": {},
   "outputs": [],
   "source": [
    "# file paths to call\n",
    "IR2_file = np.loadtxt(\"./test_data/IR_2.txt\")\n",
    "aerinite_file = np.loadtxt(\"./test_data/aerinite_processed.txt\", delimiter=\",\")\n",
    "\n",
    "IR_x = IR2_file[:,0]\n",
    "IR_y = IR2_file[:,1]\n",
    "\n",
    "aerinite_x = aerinite_file[:,0]\n",
    "aerinite_y = aerinite_file[:,1]"
   ]
  },
  {
   "cell_type": "markdown",
   "metadata": {},
   "source": [
    "First define the Gaussians and its partial derivatives with respect to its parameters."
   ]
  },
  {
   "cell_type": "code",
   "execution_count": 160,
   "metadata": {},
   "outputs": [],
   "source": [
    "def gaussian(x, I, mu, sigma):\n",
    "    diff = x - mu\n",
    "    dist = diff**2\n",
    "    exponential = np.exp(np.divide(-dist,2*sigma**2 + 1e-11))\n",
    "    amplitude = np.divide(np.abs(I), np.sqrt(2*np.pi) * sigma)\n",
    "    return amplitude * exponential"
   ]
  },
  {
   "cell_type": "code",
   "execution_count": 164,
   "metadata": {},
   "outputs": [],
   "source": [
    "def gaussian_partial_I(x, I, mu, sigma):\n",
    "    diff = x - mu\n",
    "    dist = diff**2\n",
    "    exponential = np.exp(np.divide(-dist,2*sigma**2 + 1e-11))\n",
    "    amplitude = np.divide(np.sign(I), np.sqrt(2*np.pi) * sigma)\n",
    "    return np.transpose(amplitude * exponential)"
   ]
  },
  {
   "cell_type": "code",
   "execution_count": 162,
   "metadata": {},
   "outputs": [],
   "source": [
    "def gaussian_partial_mu(x, I, mu, sigma):\n",
    "    diff = x - mu\n",
    "    dist = diff**2\n",
    "    exponential = np.exp(np.divide(-dist,2*sigma**2 + 1e-11))\n",
    "    amplitude = I*(x-mu)/(np.sqrt(2*np.pi) * sigma**3)\n",
    "    return np.transpose(amplitude * exponential)"
   ]
  },
  {
   "cell_type": "code",
   "execution_count": 165,
   "metadata": {},
   "outputs": [],
   "source": [
    "def gaussian_partial_sigma(x, I, mu, sigma):\n",
    "    diff = x - mu\n",
    "    dist = diff**2\n",
    "    exponential = np.exp(np.divide(-dist,2*sigma**2 + 1e-11))\n",
    "    amplitude = np.divide(I*((x-mu)**2/sigma**2 - 1),np.sqrt(2*np.pi) * sigma**2)\n",
    "    return np.transpose(amplitude * exponential)"
   ]
  },
  {
   "cell_type": "markdown",
   "metadata": {},
   "source": [
    "## Helper functions for the conjugate gradient method\n",
    "\n",
    "Essentially we'd like to update $f(\\mathbf{x}+\\Delta \\mathbf{x})$ by $\\mathbf{x}_i = \\mathbf{x}_{i-1} - \\alpha_{i-1}\\nabla f(\\mathbf{x}_{i-1})$ with\n",
    "$$\n",
    "    \\alpha_{i} = - \\frac{[{\\mathbf{x}_{i}}^T H(\\mathbf{x}_{i}) + \\nabla f(\\mathbf{x}_{i})]\\mathbf{d}_{i}}{{\\mathbf{d}_{i}}^T H(\\mathbf{x}_{i})\\mathbf{d}_{i}}\n",
    "$$\n",
    "using the following approximation\n",
    "$$\n",
    "    f(\\mathbf{x}+\\Delta \\mathbf{x}) \\approx f(\\mathbf{x}) + \\nabla f(\\mathbf{x})^T \\Delta \\mathbf{x} + \\frac{1}{2} \\Delta \\mathbf{x}^T H(f) \\Delta \\mathbf{x}.\n",
    "$$\n",
    "where each row the Hessian can be approximated as a directional derivative in direction \n",
    "$$\n",
    "    \\mathbf{d}_{i} = -\\nabla f(x_i) + \\beta_{i-1} \\mathbf{d}_{i-1} = - \\nabla f(\\mathbf{x}_{i-1}) + \\frac{\\nabla f(\\mathbf{x}_{i})^T H(\\mathbf{x}_{i-1}) \\mathbf{d}_{i-1}}{{\\mathbf{d}_{i-1}}^T H(\\mathbf{x}_{i-1})\\mathbf{d}_{i-1}}\\mathbf{d}_{i-1}.\n",
    "$$\n",
    "\n",
    "The Hessian is quite horrid to compute, but its product with an arbitrary vector can be approximated as:\n",
    "$$\n",
    "    H\\mathbf{v} \\approx \\frac{\\nabla f(\\mathbf{x}+\\epsilon \\mathbf{v}) - \\nabla f(\\mathbf{x})}{\\epsilon}\n",
    "$$\n",
    "for sufficiently small $\\epsilon > 0$. Essentially one can replace all terms with $H\\mathbf{d}_i$ with the above approximation."
   ]
  },
  {
   "cell_type": "code",
   "execution_count": 155,
   "metadata": {},
   "outputs": [],
   "source": [
    "def gaussian_gradient(x, I, mu, sigma, direction_vector=None):\n",
    "    '''\n",
    "        gaussian_gradient:\n",
    "            INPUTS:\n",
    "                x               : independent variable input (numpy array, size N)\n",
    "                I               : scale factor\n",
    "                mu              : centre of the gaussian\n",
    "                sigma           : standard deviation of the gaussian\n",
    "                direction_vector: (N, 3) matrix showing the direction to move to\n",
    "        If the length of x is N, a gaussian is a mapping such that R^3XR^N -> R^N.\n",
    "            OUTPUTS:\n",
    "                numpy.ndarray of size (N,3)\n",
    "    '''\n",
    "    if direction_vector is None:\n",
    "        partial_I = gaussian_partial_I(x, I, mu, sigma)\n",
    "        partial_mu = gaussian_partial_mu(x, I, mu, sigma)\n",
    "        partial_sigma = gaussian_partial_sigma(x, I, mu, sigma)\n",
    "        return np.concatenate((partial_I[:,None], partial_mu[:,None], partial_sigma[:,None]), axis=1)\n",
    "    else:\n",
    "        I = np.ones_like(x) * I\n",
    "        mu = np.ones_like(x) * mu\n",
    "        sigma = np.ones_like(x) * sigma\n",
    "        I_dir = direction_vector[:, 0]\n",
    "        m_dir = direction_vector[:, 1]\n",
    "        s_dir = direction_vector[:, 2]\n",
    "        partial_I = gaussian_partial_I(x, I - I_dir, mu - m_dir, sigma - s_dir)\n",
    "        partial_mu = gaussian_partial_mu(x, I - I_dir, mu - m_dir, sigma - s_dir)\n",
    "        partial_sigma = gaussian_partial_sigma(x, I - I_dir, mu - m_dir, sigma - s_dir)\n",
    "        pass "
   ]
  },
  {
   "cell_type": "code",
   "execution_count": 146,
   "metadata": {},
   "outputs": [],
   "source": [
    "def hessian_product(x, I, mu, sigma, direction_vector, epsilon):\n",
    "    '''\n",
    "        computes the product between the Hessian and the direction vector of interest\n",
    "        \n",
    "        the direction vector must be a 3-tuple and the epsilon is some small positive number\n",
    "    '''\n",
    "    fx_ed = gaussian_gradient(x, I, mu, sigma, direction_vector=epsilon*direction_vector)\n",
    "    fx    = gaussian_gradient(x, I, mu, sigma)\n",
    "    return (fx_ed - fx) / epsilon"
   ]
  },
  {
   "cell_type": "code",
   "execution_count": 147,
   "metadata": {},
   "outputs": [],
   "source": [
    "def pointwise_dotproduct (vector, hessian_times_direction):\n",
    "    '''\n",
    "        ((Nxm matrix), (Nxm matrix)) maps to N-vector\n",
    "    '''\n",
    "    length = vector.shape[0]\n",
    "    if length != hessian_times_direction.shape[0]:\n",
    "        raise(\"Dimension error between the vector and the hessian product\")\n",
    "    out_arr = np.zeros(length)\n",
    "    for i in range():\n",
    "        k = np.dot(vector[i,:], hessian_times_direction[i,:])\n",
    "        out_arr[i] = k\n",
    "    return out_arr"
   ]
  },
  {
   "cell_type": "code",
   "execution_count": 148,
   "metadata": {},
   "outputs": [],
   "source": [
    "def get_alpha(params, grad_in, hess_in, dir_vec):\n",
    "    ''' \n",
    "        A function to produce the alphas\n",
    "        INPUTS:\n",
    "            params  : an 1D numpy array of length 3 (num_params)\n",
    "            grad_in : gradient of the function of interest (Nx3 numpy array)\n",
    "            hess_in : output of hessian_product (Nx3 numpy array)\n",
    "            dir_vec : direction vector (Nx3 numpy array, input of hessian_product\n",
    "        OUTPUT:\n",
    "            a numpy array\n",
    "    '''\n",
    "    term1 = pointwise_dotproduct(params, hess_in.transpose())\n",
    "    term2 = pointwise_dotproduct(grad_in.trasnpose(), dir_vec.transpose())\n",
    "    numerator = -1 * (term1 + term2)\n",
    "    denominator = pointwise_dotproduct(dir_vec.transpose(), hess_in.transpose())\n",
    "    return np.divide(numerator, denominator)"
   ]
  },
  {
   "cell_type": "code",
   "execution_count": 149,
   "metadata": {},
   "outputs": [],
   "source": [
    "def get_beta(x, grad_in, hess_in, dir_vec):\n",
    "    numerator = pointwise_dotproduct(grad_in.transpose(), hess_in.transpose())\n",
    "    denominator = pointwise_dotproduct(dir_vec.transpose(), hess_in.transpose())\n",
    "    return np.divide(numerator, denominator)"
   ]
  },
  {
   "cell_type": "markdown",
   "metadata": {},
   "source": [
    "## Main algorithm\n",
    "\n",
    "The algorithm essentially requires one to follow the following steps:\n",
    "0. Set the number of peaks of interest\n",
    "1. Initialize the parameters (I'll just let them be ones at first and see how it goes)\n",
    "2. Find the gradient\n",
    "3. Find the direction vector\n",
    "    - For the first run, set beta = 0\n",
    "    - From the second run, compute the beta values with get_beta function above\n",
    "4. Find the alpha using the get_alpha function above\n",
    "5. Update the parameter-candidates \n",
    "6. Examine the error, terminate if the error's below its threshold, repeat 2 - 5 otherwise"
   ]
  },
  {
   "cell_type": "code",
   "execution_count": 150,
   "metadata": {},
   "outputs": [],
   "source": [
    "start_params = np.abs(np.random.randn(3))"
   ]
  },
  {
   "cell_type": "code",
   "execution_count": 151,
   "metadata": {},
   "outputs": [
    {
     "data": {
      "text/plain": [
       "[<matplotlib.lines.Line2D at 0x7fb83dc75b20>]"
      ]
     },
     "execution_count": 151,
     "metadata": {},
     "output_type": "execute_result"
    },
    {
     "data": {
      "image/png": "[encoded data removed]",
      "text/plain": [
       "<Figure size 432x288 with 1 Axes>"
      ]
     },
     "metadata": {
      "needs_background": "light"
     },
     "output_type": "display_data"
    }
   ],
   "source": [
    "plt.plot(IR_x, gaussian(IR_x, start_params[0], start_params[1], start_params[2]))"
   ]
  },
  {
   "cell_type": "code",
   "execution_count": 152,
   "metadata": {},
   "outputs": [],
   "source": [
    "def multiple_gaussians(x, params):\n",
    "    ''' \n",
    "        sum of multiple Gaussians\n",
    "        params must be an array of length 3n\n",
    "    '''\n",
    "    output_result = np.zeros_like(x)\n",
    "    for i in range(0, len(params), 3):\n",
    "        output_result += gaussian(x, params[i], params[i+1], params[i+2])\n",
    "    return output_result"
   ]
  },
  {
   "cell_type": "code",
   "execution_count": 153,
   "metadata": {},
   "outputs": [],
   "source": [
    "start_vals = np.random.randn(30) * 1650\n",
    "result_tmp = multiple_gaussians(IR_x, start_vals)\n",
    "gradient_tmp = []\n",
    "for i in range(0,len(start_vals), 3):\n",
    "    gradient_tmp.append(gaussian_gradient(IR_x, start_vals[0], start_vals[1],start_vals[2]))"
   ]
  },
  {
   "cell_type": "code",
   "execution_count": 159,
   "metadata": {},
   "outputs": [
    {
     "data": {
      "text/plain": [
       "(146, 6)"
      ]
     },
     "execution_count": 159,
     "metadata": {},
     "output_type": "execute_result"
    }
   ],
   "source": [
    "tmp = gaussian_gradient(IR_x, start_vals[0], start_vals[1],start_vals[2])\n",
    "tmp2 = gaussian_gradient(IR_x, start_vals[3], start_vals[4],start_vals[5])\n",
    "tmp.shape\n",
    "np.concatenate((tmp, tmp2), axis=1).shape"
   ]
  },
  {
   "cell_type": "code",
   "execution_count": 135,
   "metadata": {},
   "outputs": [
    {
     "data": {
      "text/plain": [
       "(10, 438)"
      ]
     },
     "execution_count": 135,
     "metadata": {},
     "output_type": "execute_result"
    }
   ],
   "source": [
    "gradient_tmp = np.asarray(gradient_tmp)\n",
    "gradient_tmp.shape"
   ]
  },
  {
   "cell_type": "code",
   "execution_count": 115,
   "metadata": {},
   "outputs": [
    {
     "ename": "ValueError",
     "evalue": "x and y must have same first dimension, but have shapes (146,) and (438,)",
     "output_type": "error",
     "traceback": [
      "\u001b[0;31m---------------------------------------------------------------------------\u001b[0m",
      "\u001b[0;31mValueError\u001b[0m                                Traceback (most recent call last)",
      "\u001b[1;32m/Users/kyunghoon.han/side_projects/Hessian_free_optimization/Tutorial.ipynb 셀 22\u001b[0m in \u001b[0;36m<cell line: 1>\u001b[0;34m()\u001b[0m\n\u001b[1;32m      <a href='vscode-notebook-cell:/Users/kyunghoon.han/side_projects/Hessian_free_optimization/Tutorial.ipynb#X32sZmlsZQ%3D%3D?line=0'>1</a>\u001b[0m \u001b[39mfor\u001b[39;00m i \u001b[39min\u001b[39;00m \u001b[39mrange\u001b[39m(gradient_tmp\u001b[39m.\u001b[39mshape[\u001b[39m0\u001b[39m]):\n\u001b[0;32m----> <a href='vscode-notebook-cell:/Users/kyunghoon.han/side_projects/Hessian_free_optimization/Tutorial.ipynb#X32sZmlsZQ%3D%3D?line=1'>2</a>\u001b[0m     plt\u001b[39m.\u001b[39;49mplot(IR_x, gradient_tmp[i,:])\n",
      "File \u001b[0;32m~/amber20_src/build/CMakeFiles/miniconda/install/lib/python3.9/site-packages/matplotlib/pyplot.py:2757\u001b[0m, in \u001b[0;36mplot\u001b[0;34m(scalex, scaley, data, *args, **kwargs)\u001b[0m\n\u001b[1;32m   2755\u001b[0m \u001b[39m@_copy_docstring_and_deprecators\u001b[39m(Axes\u001b[39m.\u001b[39mplot)\n\u001b[1;32m   2756\u001b[0m \u001b[39mdef\u001b[39;00m \u001b[39mplot\u001b[39m(\u001b[39m*\u001b[39margs, scalex\u001b[39m=\u001b[39m\u001b[39mTrue\u001b[39;00m, scaley\u001b[39m=\u001b[39m\u001b[39mTrue\u001b[39;00m, data\u001b[39m=\u001b[39m\u001b[39mNone\u001b[39;00m, \u001b[39m*\u001b[39m\u001b[39m*\u001b[39mkwargs):\n\u001b[0;32m-> 2757\u001b[0m     \u001b[39mreturn\u001b[39;00m gca()\u001b[39m.\u001b[39;49mplot(\n\u001b[1;32m   2758\u001b[0m         \u001b[39m*\u001b[39;49margs, scalex\u001b[39m=\u001b[39;49mscalex, scaley\u001b[39m=\u001b[39;49mscaley,\n\u001b[1;32m   2759\u001b[0m         \u001b[39m*\u001b[39;49m\u001b[39m*\u001b[39;49m({\u001b[39m\"\u001b[39;49m\u001b[39mdata\u001b[39;49m\u001b[39m\"\u001b[39;49m: data} \u001b[39mif\u001b[39;49;00m data \u001b[39mis\u001b[39;49;00m \u001b[39mnot\u001b[39;49;00m \u001b[39mNone\u001b[39;49;00m \u001b[39melse\u001b[39;49;00m {}), \u001b[39m*\u001b[39;49m\u001b[39m*\u001b[39;49mkwargs)\n",
      "File \u001b[0;32m~/amber20_src/build/CMakeFiles/miniconda/install/lib/python3.9/site-packages/matplotlib/axes/_axes.py:1632\u001b[0m, in \u001b[0;36mAxes.plot\u001b[0;34m(self, scalex, scaley, data, *args, **kwargs)\u001b[0m\n\u001b[1;32m   1390\u001b[0m \u001b[39m\"\"\"\u001b[39;00m\n\u001b[1;32m   1391\u001b[0m \u001b[39mPlot y versus x as lines and/or markers.\u001b[39;00m\n\u001b[1;32m   1392\u001b[0m \n\u001b[0;32m   (...)\u001b[0m\n\u001b[1;32m   1629\u001b[0m \u001b[39m(``'green'``) or hex strings (``'#008000'``).\u001b[39;00m\n\u001b[1;32m   1630\u001b[0m \u001b[39m\"\"\"\u001b[39;00m\n\u001b[1;32m   1631\u001b[0m kwargs \u001b[39m=\u001b[39m cbook\u001b[39m.\u001b[39mnormalize_kwargs(kwargs, mlines\u001b[39m.\u001b[39mLine2D)\n\u001b[0;32m-> 1632\u001b[0m lines \u001b[39m=\u001b[39m [\u001b[39m*\u001b[39m\u001b[39mself\u001b[39m\u001b[39m.\u001b[39m_get_lines(\u001b[39m*\u001b[39margs, data\u001b[39m=\u001b[39mdata, \u001b[39m*\u001b[39m\u001b[39m*\u001b[39mkwargs)]\n\u001b[1;32m   1633\u001b[0m \u001b[39mfor\u001b[39;00m line \u001b[39min\u001b[39;00m lines:\n\u001b[1;32m   1634\u001b[0m     \u001b[39mself\u001b[39m\u001b[39m.\u001b[39madd_line(line)\n",
      "File \u001b[0;32m~/amber20_src/build/CMakeFiles/miniconda/install/lib/python3.9/site-packages/matplotlib/axes/_base.py:312\u001b[0m, in \u001b[0;36m_process_plot_var_args.__call__\u001b[0;34m(self, data, *args, **kwargs)\u001b[0m\n\u001b[1;32m    310\u001b[0m     this \u001b[39m+\u001b[39m\u001b[39m=\u001b[39m args[\u001b[39m0\u001b[39m],\n\u001b[1;32m    311\u001b[0m     args \u001b[39m=\u001b[39m args[\u001b[39m1\u001b[39m:]\n\u001b[0;32m--> 312\u001b[0m \u001b[39myield from\u001b[39;00m \u001b[39mself\u001b[39;49m\u001b[39m.\u001b[39;49m_plot_args(this, kwargs)\n",
      "File \u001b[0;32m~/amber20_src/build/CMakeFiles/miniconda/install/lib/python3.9/site-packages/matplotlib/axes/_base.py:498\u001b[0m, in \u001b[0;36m_process_plot_var_args._plot_args\u001b[0;34m(self, tup, kwargs, return_kwargs)\u001b[0m\n\u001b[1;32m    495\u001b[0m     \u001b[39mself\u001b[39m\u001b[39m.\u001b[39maxes\u001b[39m.\u001b[39myaxis\u001b[39m.\u001b[39mupdate_units(y)\n\u001b[1;32m    497\u001b[0m \u001b[39mif\u001b[39;00m x\u001b[39m.\u001b[39mshape[\u001b[39m0\u001b[39m] \u001b[39m!=\u001b[39m y\u001b[39m.\u001b[39mshape[\u001b[39m0\u001b[39m]:\n\u001b[0;32m--> 498\u001b[0m     \u001b[39mraise\u001b[39;00m \u001b[39mValueError\u001b[39;00m(\u001b[39mf\u001b[39m\u001b[39m\"\u001b[39m\u001b[39mx and y must have same first dimension, but \u001b[39m\u001b[39m\"\u001b[39m\n\u001b[1;32m    499\u001b[0m                      \u001b[39mf\u001b[39m\u001b[39m\"\u001b[39m\u001b[39mhave shapes \u001b[39m\u001b[39m{\u001b[39;00mx\u001b[39m.\u001b[39mshape\u001b[39m}\u001b[39;00m\u001b[39m and \u001b[39m\u001b[39m{\u001b[39;00my\u001b[39m.\u001b[39mshape\u001b[39m}\u001b[39;00m\u001b[39m\"\u001b[39m)\n\u001b[1;32m    500\u001b[0m \u001b[39mif\u001b[39;00m x\u001b[39m.\u001b[39mndim \u001b[39m>\u001b[39m \u001b[39m2\u001b[39m \u001b[39mor\u001b[39;00m y\u001b[39m.\u001b[39mndim \u001b[39m>\u001b[39m \u001b[39m2\u001b[39m:\n\u001b[1;32m    501\u001b[0m     \u001b[39mraise\u001b[39;00m \u001b[39mValueError\u001b[39;00m(\u001b[39mf\u001b[39m\u001b[39m\"\u001b[39m\u001b[39mx and y can be no greater than 2D, but have \u001b[39m\u001b[39m\"\u001b[39m\n\u001b[1;32m    502\u001b[0m                      \u001b[39mf\u001b[39m\u001b[39m\"\u001b[39m\u001b[39mshapes \u001b[39m\u001b[39m{\u001b[39;00mx\u001b[39m.\u001b[39mshape\u001b[39m}\u001b[39;00m\u001b[39m and \u001b[39m\u001b[39m{\u001b[39;00my\u001b[39m.\u001b[39mshape\u001b[39m}\u001b[39;00m\u001b[39m\"\u001b[39m)\n",
      "\u001b[0;31mValueError\u001b[0m: x and y must have same first dimension, but have shapes (146,) and (438,)"
     ]
    },
    {
     "data": {
      "image/png": "[encoded data removed]",
      "text/plain": [
       "<Figure size 432x288 with 1 Axes>"
      ]
     },
     "metadata": {
      "needs_background": "light"
     },
     "output_type": "display_data"
    }
   ],
   "source": [
    "for i in range(gradient_tmp.shape[0]):\n",
    "    plt.plot(IR_x, gradient_tmp[i,:])"
   ]
  },
  {
   "cell_type": "code",
   "execution_count": null,
   "metadata": {},
   "outputs": [],
   "source": []
  }
 ],
 "metadata": {
  "kernelspec": {
   "display_name": "Python 3.9.7 ('base')",
   "language": "python",
   "name": "python3"
  },
  "language_info": {
   "codemirror_mode": {
    "name": "ipython",
    "version": 3
   },
   "file_extension": ".py",
   "mimetype": "text/x-python",
   "name": "python",
   "nbconvert_exporter": "python",
   "pygments_lexer": "ipython3",
   "version": "3.9.7"
  },
  "orig_nbformat": 4,
  "vscode": {
   "interpreter": {
    "hash": "6876d7ca502f9b2c896e3d629d67a40c904fee247359b47d97a4a08783d54d6f"
   }
  }
 },
 "nbformat": 4,
 "nbformat_minor": 2
}
