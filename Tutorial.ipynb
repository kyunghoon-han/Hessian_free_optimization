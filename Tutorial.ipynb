{
 "cells": [
  {
   "cell_type": "markdown",
   "metadata": {},
   "source": [
    "# Hessian-free optimization with conjugate gradient method\n",
    "Essentially we'd like to update $f(\\mathbf{x}+\\Delta \\mathbf{x})$ by $\\mathbf{x}_i = \\mathbf{x}_{i-1} - \\alpha_{i-1}\\nabla f(\\mathbf{x}_{i-1})$ with\n",
    "$$\n",
    "    \\alpha_{i} = - \\frac{[{\\mathbf{x}_{i}}^T H(\\mathbf{x}_{i}) + \\nabla f(\\mathbf{x}_{i})]\\mathbf{d}_{i}}{{\\mathbf{d}_{i}}^T H(\\mathbf{x}_{i})\\mathbf{d}_{i}}\n",
    "$$\n",
    "using the following approximation\n",
    "$$\n",
    "    f(\\mathbf{x}+\\Delta \\mathbf{x}) \\approx f(\\mathbf{x}) + \\nabla f(\\mathbf{x})^T \\Delta \\mathbf{x} + \\frac{1}{2} \\Delta \\mathbf{x}^T H(f) \\Delta \\mathbf{x}.\n",
    "$$\n",
    "where each row the Hessian can be approximated as a directional derivative in direction \n",
    "$$\n",
    "    \\mathbf{d}_{i} = -\\nabla f(x_i) + \\beta_{i-1} \\mathbf{d}_{i-1} = - \\nabla f(\\mathbf{x}_{i-1}) + \\frac{\\nabla f(\\mathbf{x}_{i})^T H(\\mathbf{x}_{i-1}) \\mathbf{d}_{i-1}}{{\\mathbf{d}_{i-1}}^T H(\\mathbf{x}_{i-1})\\mathbf{d}_{i-1}}\\mathbf{d}_{i-1}.\n",
    "$$\n",
    "\n",
    "The Hessian is quite horrid to compute, but its product with an arbitrary vector can be approximated as:\n",
    "$$\n",
    "    H\\mathbf{v} \\approx \\frac{\\nabla f(\\mathbf{x}+\\epsilon \\mathbf{v}) - \\nabla f(\\mathbf{x})}{\\epsilon}\n",
    "$$\n",
    "for sufficiently small $\\epsilon > 0$. Essentially one can replace all terms with $H\\mathbf{d}_i$ with the above approximation.\n",
    "\n",
    "This short Jupyter notebook introduces how one may generalize the above method on a curved surface."
   ]
  },
  {
   "cell_type": "code",
   "execution_count": 1,
   "metadata": {},
   "outputs": [],
   "source": [
    "import sys, os\n",
    "import numpy as np\n",
    "from matplotlib import pyplot as plt"
   ]
  },
  {
   "cell_type": "code",
   "execution_count": 2,
   "metadata": {},
   "outputs": [],
   "source": [
    "# file paths to call\n",
    "IR2_file = np.loadtxt(\"./test_data/IR_2.txt\")\n",
    "aerinite_file = np.loadtxt(\"./test_data/aerinite_processed.txt\", delimiter=\",\")\n",
    "\n",
    "IR_x = IR2_file[:,0]\n",
    "IR_y = IR2_file[:,1]\n",
    "\n",
    "aerinite_x = aerinite_file[:,0]\n",
    "aerinite_y = aerinite_file[:,1]"
   ]
  },
  {
   "cell_type": "markdown",
   "metadata": {},
   "source": [
    "First define the Gaussians and its partial derivatives with respect to its parameters."
   ]
  },
  {
   "cell_type": "code",
   "execution_count": 86,
   "metadata": {},
   "outputs": [],
   "source": [
    "def gaussian(x, I, mu, sigma):\n",
    "    diff = x - mu\n",
    "    dist = diff**2\n",
    "    exponential = np.exp(np.divide(-dist,2*sigma**2 + 1e-11))\n",
    "    amplitude = np.divide(np.abs(I), np.sqrt(2*np.pi) * sigma + 1e-11)\n",
    "    return amplitude * exponential"
   ]
  },
  {
   "cell_type": "code",
   "execution_count": 87,
   "metadata": {},
   "outputs": [],
   "source": [
    "def gaussian_partial_I(x, I, mu, sigma):\n",
    "    diff = x - mu\n",
    "    dist = diff**2\n",
    "    exponential = np.exp(np.divide(-dist,2*sigma**2 + 1e-11))\n",
    "    amplitude = np.divide(np.sign(I), np.sqrt(2*np.pi) * sigma + 1e-11)\n",
    "    return np.transpose(amplitude * exponential)"
   ]
  },
  {
   "cell_type": "code",
   "execution_count": 5,
   "metadata": {},
   "outputs": [],
   "source": [
    "def gaussian_partial_mu(x, I, mu, sigma):\n",
    "    diff = x - mu\n",
    "    dist = diff**2\n",
    "    exponential = np.exp(np.divide(-dist,2*sigma**2 + 1e-11))\n",
    "    amplitude = I*(x-mu)/(np.sqrt(2*np.pi) * sigma**3)\n",
    "    return np.transpose(amplitude * exponential)"
   ]
  },
  {
   "cell_type": "code",
   "execution_count": 88,
   "metadata": {},
   "outputs": [],
   "source": [
    "def gaussian_partial_sigma(x, I, mu, sigma):\n",
    "    diff = x - mu\n",
    "    dist = diff**2\n",
    "    exponential = np.exp(np.divide(-dist,2*sigma**2 + 1e-11))\n",
    "    amplitude = np.divide(I*((x-mu)**2/sigma**2 - 1),np.sqrt(2*np.pi) * sigma**2 + 1e-11)\n",
    "    return np.transpose(amplitude * exponential)"
   ]
  },
  {
   "cell_type": "markdown",
   "metadata": {},
   "source": [
    "## Helper functions\n",
    "\n"
   ]
  },
  {
   "cell_type": "code",
   "execution_count": 7,
   "metadata": {},
   "outputs": [],
   "source": [
    "def gaussian_gradient(x, I, mu, sigma, direction_vector=None):\n",
    "    '''\n",
    "        gaussian_gradient:\n",
    "            INPUTS:\n",
    "                x               : independent variable input (numpy array, size N)\n",
    "                I               : scale factor\n",
    "                mu              : centre of the gaussian\n",
    "                sigma           : standard deviation of the gaussian\n",
    "                direction_vector: (N, 3) matrix showing the direction to move to\n",
    "        If the length of x is N, a gaussian is a mapping such that R^3XR^N -> R^N.\n",
    "            OUTPUTS:\n",
    "                numpy.ndarray of size (N,3)\n",
    "    '''\n",
    "    if direction_vector is None:\n",
    "        partial_I = gaussian_partial_I(x, I, mu, sigma)\n",
    "        partial_mu = gaussian_partial_mu(x, I, mu, sigma)\n",
    "        partial_sigma = gaussian_partial_sigma(x, I, mu, sigma)\n",
    "        return np.concatenate((partial_I[:,None], partial_mu[:,None], partial_sigma[:,None]), axis=1)\n",
    "    else:\n",
    "        I = np.ones_like(x) * I\n",
    "        mu = np.ones_like(x) * mu\n",
    "        sigma = np.ones_like(x) * sigma\n",
    "        I_dir = direction_vector[:, 0]\n",
    "        m_dir = direction_vector[:, 1]\n",
    "        s_dir = direction_vector[:, 2]\n",
    "        partial_I = gaussian_partial_I(x, I + I_dir, mu + m_dir, sigma + s_dir)\n",
    "        partial_mu = gaussian_partial_mu(x, I + I_dir, mu + m_dir, sigma + s_dir)\n",
    "        partial_sigma = gaussian_partial_sigma(x, I + I_dir, mu + m_dir, sigma + s_dir)\n",
    "        return np.concatenate((partial_I[:,None], partial_mu[:,None], partial_sigma[:,None]), axis=1)"
   ]
  },
  {
   "cell_type": "code",
   "execution_count": 105,
   "metadata": {},
   "outputs": [],
   "source": [
    "def hessian_product(x, I, mu, sigma, direction_vector, epsilon):\n",
    "    '''\n",
    "        computes the product between the Hessian and the direction vector of interest\n",
    "        \n",
    "        the direction vector must be a 3-tuple and the epsilon is some small positive number\n",
    "    '''\n",
    "    fx_ed = gaussian_gradient(x, I, mu, sigma, direction_vector=epsilon*direction_vector)\n",
    "    fx    = gaussian_gradient(x, I, mu, sigma)\n",
    "    return (fx_ed - fx) / epsilon"
   ]
  },
  {
   "cell_type": "code",
   "execution_count": 95,
   "metadata": {},
   "outputs": [],
   "source": [
    "def pointwise_dotproduct (vector, hessian_times_direction):\n",
    "    '''\n",
    "        ((Nxm matrix), (Nxm matrix)) maps to N-vector\n",
    "    '''\n",
    "    length = vector.shape[0]\n",
    "    out_arr = np.zeros(length)\n",
    "    for i in range(length):\n",
    "        k = np.dot(vector[i,:], hessian_times_direction[i,:])\n",
    "        out_arr[i] = k\n",
    "    return out_arr"
   ]
  },
  {
   "cell_type": "code",
   "execution_count": 112,
   "metadata": {},
   "outputs": [],
   "source": [
    "def get_alpha(params, grad_in, hess_in, dir_vec):\n",
    "    ''' \n",
    "        A function to produce the alphas\n",
    "        INPUTS:\n",
    "            x_vals  : x-values of the \n",
    "            params  : an 1D numpy array of length 3 (num_params)\n",
    "            grad_in : gradient of the function of interest (Nx3 numpy array)\n",
    "            hess_in : output of hessian_product (Nx3 numpy array)\n",
    "            dir_vec : direction vector (Nx3 numpy array, input of hessian_product\n",
    "        OUTPUT:\n",
    "            a numpy array\n",
    "    '''\n",
    "    term1 = np.dot(hess_in, params)\n",
    "    term2 = pointwise_dotproduct(dir_vec, grad_in)\n",
    "    numerator = -1 * (term1 + term2)\n",
    "    denominator = pointwise_dotproduct(dir_vec, hess_in) + 1e-11\n",
    "    return np.divide(numerator, denominator)"
   ]
  },
  {
   "cell_type": "code",
   "execution_count": 125,
   "metadata": {},
   "outputs": [],
   "source": [
    "def get_beta(grad_in, hess_in, dir_vec):\n",
    "    numerator = pointwise_dotproduct(grad_in, hess_in)\n",
    "    denominator = pointwise_dotproduct(dir_vec, hess_in)\n",
    "    return np.divide(numerator, denominator)"
   ]
  },
  {
   "cell_type": "markdown",
   "metadata": {},
   "source": [
    "## Main algorithm\n",
    "\n",
    "The algorithm essentially requires one to follow the following steps:\n",
    "0. Set the number of peaks of interest\n",
    "1. Initialize the parameters (I'll just let them be ones at first and see how it goes)\n",
    "2. Find the gradient\n",
    "3. Find the direction vector\n",
    "    - For the first run, set beta = 0\n",
    "    - From the second run, compute the beta values with get_beta function above\n",
    "4. Find the alpha using the get_alpha function above\n",
    "5. Update the parameter-candidates \n",
    "6. Examine the error, terminate if the error's below its threshold, repeat 2 - 5 otherwise"
   ]
  },
  {
   "cell_type": "code",
   "execution_count": 61,
   "metadata": {},
   "outputs": [],
   "source": [
    "start_params = np.abs(np.random.randn(3))"
   ]
  },
  {
   "cell_type": "code",
   "execution_count": 62,
   "metadata": {},
   "outputs": [
    {
     "data": {
      "text/plain": [
       "[<matplotlib.lines.Line2D at 0x7fd1c8ea7400>]"
      ]
     },
     "execution_count": 62,
     "metadata": {},
     "output_type": "execute_result"
    },
    {
     "data": {
      "image/png": "[encoded data removed]",
      "text/plain": [
       "<Figure size 432x288 with 1 Axes>"
      ]
     },
     "metadata": {
      "needs_background": "light"
     },
     "output_type": "display_data"
    }
   ],
   "source": [
    "plt.plot(IR_x, gaussian(IR_x, start_params[0], start_params[1], start_params[2]))"
   ]
  },
  {
   "cell_type": "code",
   "execution_count": 63,
   "metadata": {},
   "outputs": [],
   "source": [
    "def multiple_gaussians(x, params):\n",
    "    ''' \n",
    "        sum of multiple Gaussians\n",
    "        params must be an array of length 3n\n",
    "    '''\n",
    "    output_result = np.zeros_like(x)\n",
    "    for i in range(0, len(params), 3):\n",
    "        output_result += gaussian(x, params[i], params[i+1], params[i+2])\n",
    "    return output_result"
   ]
  },
  {
   "cell_type": "code",
   "execution_count": 124,
   "metadata": {},
   "outputs": [],
   "source": [
    "start_vals = np.random.randn(30)\n",
    "result_tmp = multiple_gaussians(IR_x, start_vals)\n",
    "gradient_tmp = []\n",
    "for i in range(0,len(start_vals), 3):\n",
    "    gradient_tmp.append(gaussian_gradient(IR_x, start_vals[0], start_vals[1],start_vals[2]))"
   ]
  },
  {
   "cell_type": "code",
   "execution_count": 120,
   "metadata": {},
   "outputs": [
    {
     "name": "stdout",
     "output_type": "stream",
     "text": [
      "(146, 3)\n",
      "(146, 3)\n",
      "(146,)\n",
      "-0.0006549391667814955\n",
      "-2.362793857097095e-08\n",
      "856426.7561038946\n"
     ]
    },
    {
     "data": {
      "text/plain": [
       "array([ 262873.27190449, -157406.90976837, -847693.66363677])"
      ]
     },
     "execution_count": 120,
     "metadata": {},
     "output_type": "execute_result"
    }
   ],
   "source": [
    "def conjugate_gradient(x, y, start_params):\n",
    "    switch = True\n",
    "    attempts = []\n",
    "    alphas = []\n",
    "    betas = []\n",
    "    derivs = []\n",
    "    for i in range(0, len(start_params), 3):\n",
    "        attempts.append(start_params[i:i+3])\n",
    "    loop_num = 0\n",
    "    while switch:\n",
    "        updated_attempts = []\n",
    "        for attempt in attempts:\n",
    "            grad_vec = gaussian_gradient(x, *attempt)\n",
    "            if loop_num == 0:\n",
    "                dir_vec = grad_vec\n",
    "            hess_vec = hessian_product(x, *attempt, grad_vec, epsilon=1e-5)\n",
    "            alpha = get_alpha(attempt, grad_vec, hess_vec, dir_vec)\n",
    "\n",
    "            # new parameters\n",
    "            attempt = attempt + np.dot(alpha, dir_vec)\n",
    "            updated_attempts.append(attempt)\n",
    "\n",
    "            # update the direction\n",
    "            beta = get_beta(x, grad_vec, hess_vec, dir_vec)\n",
    "            dir_vec = -grad_vec + np.multiply(beta[:,None], dir_vec)\n",
    "\n",
    "        \n",
    "\n",
    "\n",
    "\n",
    "\n",
    "\n",
    "vec1 = [600, 1600, 200]\n",
    "vec2 = [700, 1800, 300]\n",
    "tmp2 = gaussian_gradient(IR_x, *vec1)\n",
    "tmp = gaussian_gradient(IR_x, *vec2, tmp2)\n",
    "hess_tmp = hessian_product(IR_x, *vec2, tmp2, epsilon=0.0001)\n",
    "alpha_tmp = get_alpha(np.asarray([vec2[0], vec2[1],vec2[2]]), tmp2, hess_tmp, tmp2)\n",
    "print(tmp.shape)\n",
    "print(hess_tmp.shape)\n",
    "print(alpha_tmp.shape)\n",
    "\n",
    "print(np.mean(tmp))\n",
    "print(np.mean(hess_tmp))\n",
    "print(np.mean(alpha_tmp))\n",
    "\n",
    "vec1 + np.dot(tmp2.transpose(), alpha_tmp)"
   ]
  },
  {
   "cell_type": "code",
   "execution_count": 137,
   "metadata": {},
   "outputs": [
    {
     "name": "stdout",
     "output_type": "stream",
     "text": [
      "(146, 3)\n",
      "(146,)\n",
      "(146, 3)\n"
     ]
    }
   ],
   "source": [
    "a = get_beta(tmp2, hess_tmp, tmp2)\n",
    "print(tmp2.shape)\n",
    "print(a.shape)\n",
    "k = np.multiply(beta[:,None], tmp2)\n",
    "print(k.shape)"
   ]
  },
  {
   "cell_type": "code",
   "execution_count": 140,
   "metadata": {},
   "outputs": [
    {
     "data": {
      "text/plain": [
       "array([ 120258.81448453, -251087.2000479 ,  -94808.34091806])"
      ]
     },
     "execution_count": 140,
     "metadata": {},
     "output_type": "execute_result"
    }
   ],
   "source": [
    "alpha_tmp.shape\n",
    "tmp.shape\n",
    "\n",
    "np.dot(alpha_tmp, tmp)"
   ]
  },
  {
   "cell_type": "code",
   "execution_count": null,
   "metadata": {},
   "outputs": [],
   "source": []
  }
 ],
 "metadata": {
  "kernelspec": {
   "display_name": "Python 3.9.12 ('base')",
   "language": "python",
   "name": "python3"
  },
  "language_info": {
   "codemirror_mode": {
    "name": "ipython",
    "version": 3
   },
   "file_extension": ".py",
   "mimetype": "text/x-python",
   "name": "python",
   "nbconvert_exporter": "python",
   "pygments_lexer": "ipython3",
   "version": "3.9.12"
  },
  "orig_nbformat": 4,
  "vscode": {
   "interpreter": {
    "hash": "40d3a090f54c6569ab1632332b64b2c03c39dcf918b08424e98f38b5ae0af88f"
   }
  }
 },
 "nbformat": 4,
 "nbformat_minor": 2
}
